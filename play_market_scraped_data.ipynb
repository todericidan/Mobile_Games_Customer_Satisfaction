{
 "cells": [
  {
   "cell_type": "code",
   "execution_count": 2,
   "id": "8d951712-37d5-4763-8af1-8cbb1128c985",
   "metadata": {},
   "outputs": [],
   "source": [
    "import pandas as pd\n",
    "import re\n",
    "import nltk\n",
    "from nltk.corpus import stopwords\n",
    "from sklearn.base import BaseEstimator\n",
    "from sklearn.base import TransformerMixin\n",
    "from nltk import FreqDist\n",
    "from nltk.stem import PorterStemmer\n",
    "from sklearn.pipeline import Pipeline\n",
    "from nltk.tokenize import word_tokenize\n",
    "import numpy as np\n",
    "from textblob import TextBlob"
   ]
  },
  {
   "cell_type": "code",
   "execution_count": 3,
   "id": "a091f525-83ef-4e59-b9ef-b12ca4b56873",
   "metadata": {},
   "outputs": [],
   "source": [
    "df = pd.read_csv(\"Initial Scraped Data//ReviewsData.csv\")"
   ]
  },
  {
   "cell_type": "code",
   "execution_count": 51,
   "id": "315bec2d-6386-429c-8145-54c0b849bb1c",
   "metadata": {},
   "outputs": [],
   "source": [
    "df.drop(columns = ['id', 'Unnamed: 0', 'criterias', 'replyDate', 'version', 'date', 'scoreText', 'title', 'userImage', 'replyText'], inplace = True)"
   ]
  },
  {
   "cell_type": "code",
   "execution_count": 52,
   "id": "2d042050-36a9-49dd-aa43-0064293898f7",
   "metadata": {},
   "outputs": [],
   "source": [
    "#Replacing all Null values\n",
    "def replace_all_Null_string():\n",
    "  for name_of_feature in working_df.columns:\n",
    "          working_df[name_of_feature] = working_df[name_of_feature].replace('Null', np.nan)"
   ]
  },
  {
   "cell_type": "code",
   "execution_count": 53,
   "id": "617cb1a8-d2fb-42ac-afd8-a6ddf7deea44",
   "metadata": {},
   "outputs": [],
   "source": [
    "# Fucntion to show all unique values\n",
    "def show_all_unique_values(data_frame):\n",
    "  for name_of_feature in data_frame.columns:\n",
    "    print('\\n' + name_of_feature + '\\n')\n",
    "    print(data_frame[name_of_feature].value_counts())"
   ]
  },
  {
   "cell_type": "code",
   "execution_count": 54,
   "id": "1ed84c4e-72e3-4c34-9432-7646738ac6cf",
   "metadata": {},
   "outputs": [],
   "source": [
    "# Funciton to replace all the wrong values\n",
    "def replace_all_wrong_values(data_frame ,regex_format, name_of_feature):\n",
    "  data_frame[name_of_feature] = data_frame[name_of_feature].replace(regex = regex_format, value = np.nan)"
   ]
  },
  {
   "cell_type": "code",
   "execution_count": 55,
   "id": "3ee14542-2eb3-409e-9e48-66c8a30fd13a",
   "metadata": {},
   "outputs": [
    {
     "name": "stdout",
     "output_type": "stream",
     "text": [
      "\n",
      "userName\n",
      "\n",
      "A Google user                 4949\n",
      "Mark                            13\n",
      "John Smith                      13\n",
      "Ron K                           13\n",
      "Michael                         12\n",
      "                              ... \n",
      "Charlie Hickman                  1\n",
      "Lindsey Summerlin                1\n",
      "GalaxyCuteGamer PandaGirl        1\n",
      "Lucas Burrows                    1\n",
      "St. Hieronymus of Colorado       1\n",
      "Name: userName, Length: 102512, dtype: int64\n",
      "\n",
      "score\n",
      "\n",
      "5    107790\n",
      "1      1324\n",
      "4      1217\n",
      "3       669\n",
      "2       475\n",
      "Name: score, dtype: int64\n",
      "\n",
      "url\n",
      "\n",
      "https://play.google.com/store/apps/details?id=com.younghorses.octodad&reviewId=gp:AOqpTOGlOFO9RYTlH5z3Aoaf8nBdM8C1Ui1sfS5ivFZhJFPb6GHYgG38nMKz5W5yFICmgD7HjA2Vx0i1kdXN                         1\n",
      "https://play.google.com/store/apps/details?id=com.feralinteractive.rometw&reviewId=gp:AOqpTOFHRSUlUGlBHtJG202WgcKA79kaqwJSYG6V_QUzWxUXpn18d0J8MYqakAQKtzKLJc_JeWi70ggA89UTSQ                   1\n",
      "https://play.google.com/store/apps/details?id=com.loop.matchtile3d&reviewId=gp:AOqpTOEzotHliytHHwov0sgC-tHfB9pzYrbntpXBvwot10IMtKS1us1N_AekT4lROzDWw7P51CUlrSKFlEZcRw                          1\n",
      "https://play.google.com/store/apps/details?id=com.newnormalgames.phonecasediy&reviewId=gp:AOqpTOEFtgLwq6nadT0GGXDyVGZxNKyI8QtWuvJMHnLnCZji68-5GTw8oerGeyRrDgrSa0CeLB3OmFy1gwtw5g               1\n",
      "https://play.google.com/store/apps/details?id=com.sg.grand.stickman.rope.hero.crime.city&reviewId=gp:AOqpTOHDZcLz4l1OpLABPofgE04QFUM3Gqi-2Bn-z5Emfuc34FGfXkqzrS2meme2_uSfQkowqrPC9A8Ww9pFXA    1\n",
      "                                                                                                                                                                                              ..\n",
      "https://play.google.com/store/apps/details?id=com.ucool.hero&reviewId=gp:AOqpTOF64xf7SHiX2StywODbzj-PKqDEkrByYlBfG7mzZwWa445M3Nn8nKCWL6QLMuSvfRH_vZeBQyBUnsGfDw                                1\n",
      "https://play.google.com/store/apps/details?id=com.whitesquare.animaltransform&reviewId=gp:AOqpTOEgbs92pRfvmQRJeHU4FpxwiiKPOBhed9uFgX1JsTFa6e70ZWBDK5FaCgUq52UUd0DUCAheIZ02cFajZhc              1\n",
      "https://play.google.com/store/apps/details?id=com.square_enix.android_googleplay.chrono&reviewId=gp:AOqpTOHpmglV63cgIWMvyBdrvnWhCRYCZRpdvci9StPZ9jy6GKLF6oGMGjY8XeyIvXZ9iSW4QKvAmMqBW0ncNA     1\n",
      "https://play.google.com/store/apps/details?id=com.tgame.girlgenius&reviewId=gp:AOqpTOH2StncyX-H8XA28UV4--xPSRRubTkVV4j-mIBJ79RdVk4Mr_X5jpkLRsNMJlOHgmxs5qDVpj1YtF5Ljw                          1\n",
      "https://play.google.com/store/apps/details?id=com.panoramik.mightyparty&reviewId=gp:AOqpTOEGihZ6n8HbcS9hrmV86U2stCyaqsTBXxmtRtFSdsc0wHZEFalqEnQcrTCHmoaZT0l2MsRpC163gsyD8w                     1\n",
      "Name: url, Length: 111475, dtype: int64\n",
      "\n",
      "text\n",
      "\n",
      "Good                                                                                                            1576\n",
      "Love it                                                                                                          931\n",
      "Fun                                                                                                              916\n",
      "Awesome                                                                                                          759\n",
      "Nice                                                                                                             752\n",
      "                                                                                                                ... \n",
      "I Really Enjoy This Gameplay In 2020. The Graphics Is The Best Great Job                                           1\n",
      "Has the classic NBA Jam feeling from the SNES, with great controls                                                 1\n",
      "Like Papa's Pizzeria to go, i love this cooking and serving simulator game.                                        1\n",
      "Simple, addictive and challenging to play. 5/5 recommend                                                           1\n",
      "Touching short story experience. Great music throughout. Very nice use of mechanics to add to the narrative.       1\n",
      "Name: text, Length: 84873, dtype: int64\n",
      "\n",
      "thumbsUp\n",
      "\n",
      "0       81514\n",
      "1       12455\n",
      "2        4482\n",
      "3        2511\n",
      "4        1531\n",
      "        ...  \n",
      "230         1\n",
      "294         1\n",
      "231         1\n",
      "2534        1\n",
      "383         1\n",
      "Name: thumbsUp, Length: 396, dtype: int64\n",
      "\n",
      "App_Id\n",
      "\n",
      "com.giantssoftware.fs20.google           300\n",
      "com.NamcoNetworks.MsPacMan               300\n",
      "com.ironhidegames.android.ironmarines    300\n",
      "com.global.ztmslg                        300\n",
      "com.tocaboca.tocakitchen2                300\n",
      "                                        ... \n",
      "com.newstory.DrawHappyPolice              52\n",
      "air.com.flipline.papaspastariatogo        48\n",
      "com.marmalade.monopolysudoku              48\n",
      "com.sun.tender                            16\n",
      "mycity.shopping                            5\n",
      "Name: App_Id, Length: 397, dtype: int64\n"
     ]
    }
   ],
   "source": [
    "show_all_unique_values(df)"
   ]
  },
  {
   "cell_type": "code",
   "execution_count": 57,
   "id": "beccf138-7839-41f0-a385-7035f9a83af5",
   "metadata": {},
   "outputs": [],
   "source": [
    "df.dropna(inplace = True)"
   ]
  },
  {
   "cell_type": "code",
   "execution_count": 63,
   "id": "76e8ed54-ee7f-41da-b794-19402e1aaf5e",
   "metadata": {},
   "outputs": [
    {
     "data": {
      "text/html": [
       "<div>\n",
       "<style scoped>\n",
       "    .dataframe tbody tr th:only-of-type {\n",
       "        vertical-align: middle;\n",
       "    }\n",
       "\n",
       "    .dataframe tbody tr th {\n",
       "        vertical-align: top;\n",
       "    }\n",
       "\n",
       "    .dataframe thead th {\n",
       "        text-align: right;\n",
       "    }\n",
       "</style>\n",
       "<table border=\"1\" class=\"dataframe\">\n",
       "  <thead>\n",
       "    <tr style=\"text-align: right;\">\n",
       "      <th></th>\n",
       "      <th>userName</th>\n",
       "      <th>score</th>\n",
       "      <th>url</th>\n",
       "      <th>text</th>\n",
       "      <th>thumbsUp</th>\n",
       "      <th>App_Id</th>\n",
       "    </tr>\n",
       "  </thead>\n",
       "  <tbody>\n",
       "    <tr>\n",
       "      <th>2</th>\n",
       "      <td>neki0 playz</td>\n",
       "      <td>5</td>\n",
       "      <td>https://play.google.com/store/apps/details?id=...</td>\n",
       "      <td>great game bit would reccoamend a way to make ...</td>\n",
       "      <td>1</td>\n",
       "      <td>age.of.civilizations2.jakowski.lukasz</td>\n",
       "    </tr>\n",
       "  </tbody>\n",
       "</table>\n",
       "</div>"
      ],
      "text/plain": [
       "      userName  score                                                url  \\\n",
       "2  neki0 playz      5  https://play.google.com/store/apps/details?id=...   \n",
       "\n",
       "                                                text  thumbsUp  \\\n",
       "2  great game bit would reccoamend a way to make ...         1   \n",
       "\n",
       "                                  App_Id  \n",
       "2  age.of.civilizations2.jakowski.lukasz  "
      ]
     },
     "execution_count": 63,
     "metadata": {},
     "output_type": "execute_result"
    }
   ],
   "source": [
    "one_row_data_frame"
   ]
  },
  {
   "cell_type": "code",
   "execution_count": 64,
   "id": "8257466e-38f9-49e5-9f89-d134a31fdaa2",
   "metadata": {},
   "outputs": [],
   "source": [
    "df['text'] = df['text'].str.lower() # Transforming the text to lower case"
   ]
  },
  {
   "cell_type": "code",
   "execution_count": 65,
   "id": "8f028593-0503-4ed8-90f5-2989cca93d3a",
   "metadata": {},
   "outputs": [
    {
     "name": "stderr",
     "output_type": "stream",
     "text": [
      "<ipython-input-65-c8cd118dbf8e>:1: FutureWarning: The default value of regex will change from True to False in a future version.\n",
      "  df['text'] = df['text'].str.replace('[^\\w\\s]','')\n"
     ]
    }
   ],
   "source": [
    "df['text'] = df['text'].str.replace('[^\\w\\s]','')"
   ]
  },
  {
   "cell_type": "code",
   "execution_count": 66,
   "id": "18b27751-0a13-4d3d-a919-5424493a6785",
   "metadata": {},
   "outputs": [],
   "source": [
    "df['text'] = df.apply(lambda row: nltk.word_tokenize(row['text']), axis=1)"
   ]
  },
  {
   "cell_type": "markdown",
   "id": "b8da1067-808a-42b6-baa5-d357b95fca49",
   "metadata": {},
   "source": [
    "# StopWords"
   ]
  },
  {
   "cell_type": "code",
   "execution_count": 69,
   "id": "bdc53adf-5bd7-431f-bbcc-6c39d3bd54be",
   "metadata": {},
   "outputs": [],
   "source": [
    "df['text'] = df['text'].apply(lambda x: [item for item in x if item not in stopwords.words('english')])"
   ]
  },
  {
   "cell_type": "code",
   "execution_count": 71,
   "id": "a6dc8176-6045-457b-a52b-eac3e153d556",
   "metadata": {},
   "outputs": [],
   "source": [
    "df.to_csv(\"Initial Scraped Data//data_without_stopwords.csv\", index = False)"
   ]
  },
  {
   "cell_type": "markdown",
   "id": "b333c96c-a0b3-4bf8-8823-ba983272bedb",
   "metadata": {},
   "source": [
    "# Stemming"
   ]
  },
  {
   "cell_type": "code",
   "execution_count": 2,
   "id": "e46f2d5a-34f5-4d3e-b098-7ac905bfcd49",
   "metadata": {},
   "outputs": [],
   "source": [
    "df = pd.read_csv(\"Initial Scraped Data//data_without_stopwords.csv\")"
   ]
  },
  {
   "cell_type": "code",
   "execution_count": 3,
   "id": "98e508aa-ae44-4712-81a1-8186353341c4",
   "metadata": {},
   "outputs": [],
   "source": [
    "class ApplyStemmer(TransformerMixin,BaseEstimator):\n",
    "    def init(self, stemmer):\n",
    "        self.stemmer = stemmer\n",
    "\n",
    "    def fit(self, X : 'np.array', Y : 'np.array' = None, **kwargs):\n",
    "        return self\n",
    "\n",
    "    def transform(self, X : 'np.array'):\n",
    "        for i in range(len(X)):\n",
    "            lista = []\n",
    "            for word in word_tokenize(X[i]):\n",
    "                lista.append(self.stemmer.stem(word))\n",
    "            X[i] = ' '.join(lista)\n",
    "        return X"
   ]
  },
  {
   "cell_type": "code",
   "execution_count": 38,
   "id": "1032048d-1a79-48aa-b99c-b27a8c674e39",
   "metadata": {},
   "outputs": [],
   "source": [
    "df['text'] = df['text'].apply(lambda txt: ''.join(TextBlob(txt).correct()))"
   ]
  },
  {
   "cell_type": "code",
   "execution_count": 39,
   "id": "f5228e11-1ad4-40f5-a74d-f4dee3fc8385",
   "metadata": {},
   "outputs": [],
   "source": [
    " df.to_csv(\"Initial Scraped Data//data_without_stopwords.csv\", index = False)"
   ]
  },
  {
   "cell_type": "code",
   "execution_count": 50,
   "id": "45f4c418-0b4c-4d56-b377-c0d18571482b",
   "metadata": {},
   "outputs": [],
   "source": [
    "pipeline = Pipeline([\n",
    "    (\"stemming\", ApplyStemmer(PorterStemmer()))\n",
    "])"
   ]
  },
  {
   "cell_type": "code",
   "execution_count": 60,
   "id": "140fcf14-246a-4f1e-b424-29dcfaecad55",
   "metadata": {},
   "outputs": [
    {
     "name": "stderr",
     "output_type": "stream",
     "text": [
      "<ipython-input-60-f1503cdef431>:1: SettingWithCopyWarning: \n",
      "A value is trying to be set on a copy of a slice from a DataFrame\n",
      "\n",
      "See the caveats in the documentation: https://pandas.pydata.org/pandas-docs/stable/user_guide/indexing.html#returning-a-view-versus-a-copy\n",
      "  df['text'][:111393] = pipeline.fit_transform(df['text'][:111393])\n"
     ]
    }
   ],
   "source": [
    "df['text'][:111393] = pipeline.fit_transform(df['text'][:111393])"
   ]
  },
  {
   "cell_type": "code",
   "execution_count": 62,
   "id": "69167f99-aa8a-4f7f-936d-ee5315f9c67f",
   "metadata": {},
   "outputs": [],
   "source": [
    "df.to_csv(\"Processed Data//data_with_stemmer_applied.csv\", index = False)"
   ]
  },
  {
   "cell_type": "code",
   "execution_count": 28,
   "id": "472e1d65-83b0-47cf-8560-04d47a9caa02",
   "metadata": {},
   "outputs": [],
   "source": [
    "review_data_df = pd.read_csv(\"Initial Scraped Data//ReviewsData.csv\")"
   ]
  },
  {
   "cell_type": "code",
   "execution_count": 42,
   "id": "225af3e3-e9f9-44ce-82b8-3cb30855033f",
   "metadata": {},
   "outputs": [],
   "source": [
    "review_data_df['label'] = \"\""
   ]
  },
  {
   "cell_type": "code",
   "execution_count": 317,
   "id": "ad8159da-ed35-4692-b8f0-80a37dd2e46e",
   "metadata": {},
   "outputs": [
    {
     "name": "stderr",
     "output_type": "stream",
     "text": [
      "<ipython-input-317-844b8132d0a9>:2: SettingWithCopyWarning: \n",
      "A value is trying to be set on a copy of a slice from a DataFrame\n",
      "\n",
      "See the caveats in the documentation: https://pandas.pydata.org/pandas-docs/stable/user_guide/indexing.html#returning-a-view-versus-a-copy\n",
      "  review_data_df_1['label'][i] = 0\n",
      "C:\\Users\\alexa\\AppData\\Local\\Packages\\PythonSoftwareFoundation.Python.3.8_qbz5n2kfra8p0\\LocalCache\\local-packages\\Python38\\site-packages\\pandas\\core\\series.py:1031: SettingWithCopyWarning: \n",
      "A value is trying to be set on a copy of a slice from a DataFrame\n",
      "\n",
      "See the caveats in the documentation: https://pandas.pydata.org/pandas-docs/stable/user_guide/indexing.html#returning-a-view-versus-a-copy\n",
      "  self._set_labels(key, value)\n"
     ]
    }
   ],
   "source": [
    "for i in array_of_indexes:\n",
    "    review_data_df_1['label'][i] = 0"
   ]
  },
  {
   "cell_type": "code",
   "execution_count": 51,
   "id": "36fb8d0a-1719-4958-840a-bfbed7f516aa",
   "metadata": {},
   "outputs": [],
   "source": [
    "review_data_df_1 = pd.read_csv(\"Processed Data//review_data_first_0_500.csv\")\n",
    "review_data_df_2 = pd.read_csv(\"Processed Data//review_data_first_501_1000.csv\")\n",
    "review_data_df_3 = pd.read_csv(\"Processed Data//review_data_first_1001_2001.csv\")\n",
    "review_data_df_4 = pd.read_csv(\"Processed Data//review_data_first_2001_3501.csv\")\n",
    "review_data_df_6 = pd.read_csv(\"Processed Data//NextNextNextNextReviewData.csv\")"
   ]
  },
  {
   "cell_type": "code",
   "execution_count": 52,
   "id": "e26c8980-3995-4465-9231-b6ba7d059d22",
   "metadata": {},
   "outputs": [],
   "source": [
    "review_data_df_1 = review_data_df_1.append(review_data_df[500:501])"
   ]
  },
  {
   "cell_type": "code",
   "execution_count": 53,
   "id": "99d8616d-6771-459c-b29a-f09c11741c3e",
   "metadata": {},
   "outputs": [],
   "source": [
    "result_df = pd.concat([review_data_df_1, review_data_df_2, review_data_df_3, review_data_df_4, review_data_df_6], ignore_index = True)"
   ]
  },
  {
   "cell_type": "code",
   "execution_count": 54,
   "id": "7c278a03-c1a5-4b8f-a5ba-9ed2003964ce",
   "metadata": {},
   "outputs": [],
   "source": [
    "result_df.drop('Unnamed: 0', inplace=True, axis=1)"
   ]
  },
  {
   "cell_type": "code",
   "execution_count": 55,
   "id": "6d301c93-a190-46c9-9bf4-e8d9201cbd8c",
   "metadata": {},
   "outputs": [],
   "source": [
    "result_df.drop('Unnamed: 0.1', inplace=True, axis=1)"
   ]
  },
  {
   "cell_type": "code",
   "execution_count": 58,
   "id": "cc1b3b18-2a2f-4ae3-a36e-a8f26e6bd195",
   "metadata": {},
   "outputs": [],
   "source": [
    "label_df = result_df['label']"
   ]
  },
  {
   "cell_type": "code",
   "execution_count": 59,
   "id": "32148cb2-b9a3-4dd5-aa7b-d8e24b5e5409",
   "metadata": {},
   "outputs": [],
   "source": [
    "data_with_stemmer = pd.read_csv(\"data_with_stemmer_applied.csv\")"
   ]
  },
  {
   "cell_type": "code",
   "execution_count": 60,
   "id": "4908a45f-3d34-413f-b2db-7771db1ca167",
   "metadata": {},
   "outputs": [],
   "source": [
    "result = pd.concat([data_with_stemmer, label_df], axis=1)"
   ]
  },
  {
   "cell_type": "code",
   "execution_count": 61,
   "id": "9b9fb2dd-f96d-4542-bdf2-80e0624ebd58",
   "metadata": {},
   "outputs": [],
   "source": [
    "result.to_csv(\"Reviews_with_label.csv\")"
   ]
  },
  {
   "cell_type": "code",
   "execution_count": null,
   "id": "99e2401e-2f4c-446c-80af-f423feecb153",
   "metadata": {},
   "outputs": [],
   "source": [
    "only_text = review_data_df"
   ]
  }
 ],
 "metadata": {
  "kernelspec": {
   "display_name": "Python 3",
   "language": "python",
   "name": "python3"
  },
  "language_info": {
   "codemirror_mode": {
    "name": "ipython",
    "version": 3
   },
   "file_extension": ".py",
   "mimetype": "text/x-python",
   "name": "python",
   "nbconvert_exporter": "python",
   "pygments_lexer": "ipython3",
   "version": "3.8.10"
  }
 },
 "nbformat": 4,
 "nbformat_minor": 5
}